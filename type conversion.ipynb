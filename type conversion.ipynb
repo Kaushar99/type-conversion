{
 "cells": [
  {
   "cell_type": "code",
   "execution_count": 2,
   "id": "d50e7a50-4642-4e4c-bdff-a95f011d944f",
   "metadata": {},
   "outputs": [],
   "source": [
    "#1. convert an integer to a floating- point number."
   ]
  },
  {
   "cell_type": "code",
   "execution_count": 3,
   "id": "20f00975-a85e-4f4e-9be1-8344f712e927",
   "metadata": {},
   "outputs": [
    {
     "name": "stdout",
     "output_type": "stream",
     "text": [
      "24.0\n"
     ]
    }
   ],
   "source": [
    "int_no = 24\n",
    "float_no = float(int_no)\n",
    "print(float_no)"
   ]
  },
  {
   "cell_type": "code",
   "execution_count": 4,
   "id": "151ef269-8eea-43bc-9d57-8c86df9de840",
   "metadata": {},
   "outputs": [],
   "source": [
    "#2. convert a float to an integer."
   ]
  },
  {
   "cell_type": "code",
   "execution_count": 10,
   "id": "6d6a2211-97c4-4604-a9c1-9175e37f1783",
   "metadata": {},
   "outputs": [
    {
     "name": "stdout",
     "output_type": "stream",
     "text": [
      "32\n"
     ]
    }
   ],
   "source": [
    "float_value = 32.4\n",
    "int_value = int(float_value)\n",
    "print(int_value)"
   ]
  },
  {
   "cell_type": "code",
   "execution_count": 11,
   "id": "920efeb3-5913-405f-9f51-ac434f58e99d",
   "metadata": {},
   "outputs": [
    {
     "data": {
      "text/plain": [
       "int"
      ]
     },
     "execution_count": 11,
     "metadata": {},
     "output_type": "execute_result"
    }
   ],
   "source": [
    "type(int_value)"
   ]
  },
  {
   "cell_type": "code",
   "execution_count": 7,
   "id": "6fc1c40b-8c09-4f6e-a17f-d63880acc900",
   "metadata": {},
   "outputs": [],
   "source": [
    "#3. convert an integer to a string"
   ]
  },
  {
   "cell_type": "code",
   "execution_count": 8,
   "id": "677b6edd-e2c4-4f2a-8c20-d63bc391fdf1",
   "metadata": {},
   "outputs": [
    {
     "name": "stdout",
     "output_type": "stream",
     "text": [
      "45\n"
     ]
    }
   ],
   "source": [
    "num = 45\n",
    "string = str(num)\n",
    "print(string)"
   ]
  },
  {
   "cell_type": "code",
   "execution_count": 12,
   "id": "618a4da6-0b42-416e-bf3f-0249f654e8c6",
   "metadata": {},
   "outputs": [
    {
     "data": {
      "text/plain": [
       "str"
      ]
     },
     "execution_count": 12,
     "metadata": {},
     "output_type": "execute_result"
    }
   ],
   "source": [
    "type(string)"
   ]
  },
  {
   "cell_type": "code",
   "execution_count": 13,
   "id": "2537c06d-9a55-4da8-81fb-a8bbe946a2b8",
   "metadata": {},
   "outputs": [],
   "source": [
    "#4. convert a list to a tuple"
   ]
  },
  {
   "cell_type": "code",
   "execution_count": 14,
   "id": "22f4b9b2-cffe-4480-8d72-ccd8ce26805d",
   "metadata": {},
   "outputs": [
    {
     "name": "stdout",
     "output_type": "stream",
     "text": [
      "(11, 12, 13, 14)\n"
     ]
    }
   ],
   "source": [
    "lists = [11, 12, 13, 14]\n",
    "tup = tuple(lists)\n",
    "print(tup)"
   ]
  },
  {
   "cell_type": "code",
   "execution_count": 15,
   "id": "f58b5bf7-e310-4b52-bdbd-d5d32ac53b88",
   "metadata": {},
   "outputs": [
    {
     "data": {
      "text/plain": [
       "tuple"
      ]
     },
     "execution_count": 15,
     "metadata": {},
     "output_type": "execute_result"
    }
   ],
   "source": [
    "type(tup)"
   ]
  },
  {
   "cell_type": "code",
   "execution_count": 16,
   "id": "b1ccda7d-e986-403b-88fe-bcac1a817475",
   "metadata": {},
   "outputs": [],
   "source": [
    "#5. convert a tuple to a list"
   ]
  },
  {
   "cell_type": "code",
   "execution_count": 17,
   "id": "5735654b-fd40-44bd-a5b5-6e897132ff97",
   "metadata": {},
   "outputs": [
    {
     "name": "stdout",
     "output_type": "stream",
     "text": [
      "[22, 32, 44, 55, 69, 86]\n"
     ]
    }
   ],
   "source": [
    "tpl = (22, 32, 44, 55, 69, 86)\n",
    "mylist = list(tpl)\n",
    "print(mylist)"
   ]
  },
  {
   "cell_type": "code",
   "execution_count": 18,
   "id": "b41e8efc-0fa4-470f-980d-66bc109ed2f9",
   "metadata": {},
   "outputs": [
    {
     "data": {
      "text/plain": [
       "list"
      ]
     },
     "execution_count": 18,
     "metadata": {},
     "output_type": "execute_result"
    }
   ],
   "source": [
    "type(mylist)"
   ]
  },
  {
   "cell_type": "code",
   "execution_count": 19,
   "id": "a83ec5ba-f00f-41d6-800a-7f7936c5791a",
   "metadata": {},
   "outputs": [],
   "source": [
    "#6. convert a decimal number to a binary"
   ]
  },
  {
   "cell_type": "code",
   "execution_count": 23,
   "id": "3604eb81-4880-49e9-bfff-634a057b2741",
   "metadata": {},
   "outputs": [
    {
     "name": "stdout",
     "output_type": "stream",
     "text": [
      "0b1100\n"
     ]
    }
   ],
   "source": [
    "dec_no = 12\n",
    "binary = bin(dec_no)\n",
    "print(binary)"
   ]
  },
  {
   "cell_type": "code",
   "execution_count": 25,
   "id": "a0e6d4a1-22a7-4565-8573-ec576d33d5ee",
   "metadata": {},
   "outputs": [],
   "source": [
    "#7. convert a non- zero number to boolean "
   ]
  },
  {
   "cell_type": "code",
   "execution_count": 26,
   "id": "8528a259-4b06-4652-aa72-44f3368d2dda",
   "metadata": {},
   "outputs": [
    {
     "name": "stdout",
     "output_type": "stream",
     "text": [
      "True\n"
     ]
    }
   ],
   "source": [
    "num = 7\n",
    "boolean = bool(num)\n",
    "print(boolean)"
   ]
  },
  {
   "cell_type": "code",
   "execution_count": 27,
   "id": "13f033de-76db-4e68-a083-bd750ba7f11e",
   "metadata": {},
   "outputs": [
    {
     "name": "stdout",
     "output_type": "stream",
     "text": [
      "True\n"
     ]
    }
   ],
   "source": [
    "num = 1 \n",
    "boolean = bool(num)\n",
    "print(boolean)"
   ]
  },
  {
   "cell_type": "code",
   "execution_count": null,
   "id": "4847b6a1-87cb-42da-8f72-591ea5460637",
   "metadata": {},
   "outputs": [],
   "source": []
  }
 ],
 "metadata": {
  "kernelspec": {
   "display_name": "Python 3 (ipykernel)",
   "language": "python",
   "name": "python3"
  },
  "language_info": {
   "codemirror_mode": {
    "name": "ipython",
    "version": 3
   },
   "file_extension": ".py",
   "mimetype": "text/x-python",
   "name": "python",
   "nbconvert_exporter": "python",
   "pygments_lexer": "ipython3",
   "version": "3.10.8"
  }
 },
 "nbformat": 4,
 "nbformat_minor": 5
}
