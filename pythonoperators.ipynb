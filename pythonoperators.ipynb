{
 "cells": [
  {
   "cell_type": "code",
   "execution_count": 1,
   "id": "bd26d8c4-591d-4fb9-bbf6-3ed83122e673",
   "metadata": {},
   "outputs": [],
   "source": [
    "#1. Calculate the sum, difference, product, and quotient of two numbers."
   ]
  },
  {
   "cell_type": "code",
   "execution_count": 2,
   "id": "e1592203-ee42-46de-98ea-0a10dbf42569",
   "metadata": {},
   "outputs": [
    {
     "name": "stdout",
     "output_type": "stream",
     "text": [
      "47\n"
     ]
    }
   ],
   "source": [
    "#for sum of two numbers- we use (+) operator\n",
    "num1 = 15\n",
    "num2 = 32\n",
    "sum_result = num1+num2\n",
    "print(sum_result)"
   ]
  },
  {
   "cell_type": "code",
   "execution_count": 3,
   "id": "c33c0f3d-b9f0-4e4c-9897-3dd824111791",
   "metadata": {},
   "outputs": [
    {
     "name": "stdout",
     "output_type": "stream",
     "text": [
      "9\n"
     ]
    }
   ],
   "source": [
    "#for difference of two number- we use (-) operator\n",
    "num1 = 43\n",
    "num2 = 34\n",
    "diff_result = num1-num2\n",
    "print(diff_result) "
   ]
  },
  {
   "cell_type": "code",
   "execution_count": 4,
   "id": "8b16666b-8c33-41ce-a57f-18cb718fbda3",
   "metadata": {},
   "outputs": [
    {
     "name": "stdout",
     "output_type": "stream",
     "text": [
      "120\n"
     ]
    }
   ],
   "source": [
    "#for product of two number- we use (*) operator \n",
    "num1 = 24\n",
    "num2 = 5\n",
    "pro_duct = num1*num2\n",
    "print(pro_duct)"
   ]
  },
  {
   "cell_type": "code",
   "execution_count": 5,
   "id": "bdb92834-3cc7-4a93-903f-cb9246aa7962",
   "metadata": {},
   "outputs": [
    {
     "name": "stdout",
     "output_type": "stream",
     "text": [
      "6.0\n"
     ]
    }
   ],
   "source": [
    "#for quotient- we use (/) operator\n",
    "num1 = 54\n",
    "num2 = 9\n",
    "quo_result = num1/num2\n",
    "print(quo_result)"
   ]
  },
  {
   "cell_type": "code",
   "execution_count": 6,
   "id": "c9d87473-dff9-4953-a664-ecc74312742a",
   "metadata": {},
   "outputs": [],
   "source": [
    "#2. Perform various assignment operations on a variable."
   ]
  },
  {
   "cell_type": "code",
   "execution_count": 7,
   "id": "ad0c8bde-a59f-43dc-b214-c11fbb642144",
   "metadata": {},
   "outputs": [],
   "source": [
    "x = 52\n",
    "#addition operator\n",
    "x += 5"
   ]
  },
  {
   "cell_type": "code",
   "execution_count": 8,
   "id": "269d846e-6205-48ba-b8a3-3dab2c208c53",
   "metadata": {},
   "outputs": [
    {
     "name": "stdout",
     "output_type": "stream",
     "text": [
      "57\n"
     ]
    }
   ],
   "source": [
    "print(x)"
   ]
  },
  {
   "cell_type": "code",
   "execution_count": 9,
   "id": "dd68a745-6090-4a0b-a24e-8afb47e6ba77",
   "metadata": {},
   "outputs": [
    {
     "name": "stdout",
     "output_type": "stream",
     "text": [
      "47\n"
     ]
    }
   ],
   "source": [
    "#subtraction operator\n",
    "x -= 10\n",
    "print(x)"
   ]
  },
  {
   "cell_type": "code",
   "execution_count": 10,
   "id": "a00aa8f6-ca9c-46c1-9164-869e9bf742e1",
   "metadata": {},
   "outputs": [],
   "source": [
    "#multiplication operator\n",
    "y = 81\n",
    "y *= 3"
   ]
  },
  {
   "cell_type": "code",
   "execution_count": 11,
   "id": "20448787-7e90-41bb-8de5-806e4f948ccf",
   "metadata": {},
   "outputs": [
    {
     "name": "stdout",
     "output_type": "stream",
     "text": [
      "243\n"
     ]
    }
   ],
   "source": [
    "print(y)"
   ]
  },
  {
   "cell_type": "code",
   "execution_count": 12,
   "id": "3b075a02-b473-4a6e-a67d-c30f659ab745",
   "metadata": {},
   "outputs": [
    {
     "name": "stdout",
     "output_type": "stream",
     "text": [
      "9.0\n"
     ]
    }
   ],
   "source": [
    "#division operator - gives value of quotient\n",
    "z = 27 \n",
    "z /= 3\n",
    "print(z)"
   ]
  },
  {
   "cell_type": "code",
   "execution_count": 13,
   "id": "8adc5bf7-6148-4a14-9df5-f1e9450db610",
   "metadata": {},
   "outputs": [
    {
     "name": "stdout",
     "output_type": "stream",
     "text": [
      "1\n"
     ]
    }
   ],
   "source": [
    "#modulus operator - gives remainder value\n",
    "a = 45\n",
    "a %= 4\n",
    "print(a)"
   ]
  },
  {
   "cell_type": "code",
   "execution_count": 14,
   "id": "91a52a3e-fdf3-4d21-a0d9-c2b068482ed5",
   "metadata": {},
   "outputs": [
    {
     "data": {
      "text/plain": [
       "32"
      ]
     },
     "execution_count": 14,
     "metadata": {},
     "output_type": "execute_result"
    }
   ],
   "source": [
    "#power operator\n",
    "2**5"
   ]
  },
  {
   "cell_type": "code",
   "execution_count": 15,
   "id": "402a2683-0c57-419d-8da5-3220f1b66a5f",
   "metadata": {},
   "outputs": [
    {
     "data": {
      "text/plain": [
       "True"
      ]
     },
     "execution_count": 15,
     "metadata": {},
     "output_type": "execute_result"
    }
   ],
   "source": [
    "#comparison operator - to compare value and return a boolean value.\n",
    "5 == 5"
   ]
  },
  {
   "cell_type": "code",
   "execution_count": 16,
   "id": "3cf3b92b-b786-4550-96da-f748ac240ac3",
   "metadata": {},
   "outputs": [
    {
     "data": {
      "text/plain": [
       "1"
      ]
     },
     "execution_count": 16,
     "metadata": {},
     "output_type": "execute_result"
    }
   ],
   "source": [
    "#floor operator (//)- gives nearest value\n",
    "4 // 3"
   ]
  },
  {
   "cell_type": "code",
   "execution_count": 17,
   "id": "2388c25a-4020-47f6-9e9d-f30ef4a0671b",
   "metadata": {},
   "outputs": [
    {
     "data": {
      "text/plain": [
       "False"
      ]
     },
     "execution_count": 17,
     "metadata": {},
     "output_type": "execute_result"
    }
   ],
   "source": [
    "#not equal operator\n",
    "2 != 2"
   ]
  },
  {
   "cell_type": "code",
   "execution_count": 18,
   "id": "dcf4dec1-bd9d-4252-b736-5b138a28c5f7",
   "metadata": {},
   "outputs": [
    {
     "data": {
      "text/plain": [
       "True"
      ]
     },
     "execution_count": 18,
     "metadata": {},
     "output_type": "execute_result"
    }
   ],
   "source": [
    "#logical operator\n",
    "True and True"
   ]
  },
  {
   "cell_type": "code",
   "execution_count": 19,
   "id": "b108cca7-32f0-4e1f-9185-38752a0d1d48",
   "metadata": {},
   "outputs": [
    {
     "data": {
      "text/plain": [
       "True"
      ]
     },
     "execution_count": 19,
     "metadata": {},
     "output_type": "execute_result"
    }
   ],
   "source": [
    "#membership operator - to check whether a particular variable is present in the container or not. gives result in boolean value.\n",
    "a = \"data science\"\n",
    "\"data\" in \"data science\""
   ]
  },
  {
   "cell_type": "code",
   "execution_count": 20,
   "id": "034c4700-0eee-44f8-b31d-9fca4e68fac1",
   "metadata": {},
   "outputs": [
    {
     "data": {
      "text/plain": [
       "False"
      ]
     },
     "execution_count": 20,
     "metadata": {},
     "output_type": "execute_result"
    }
   ],
   "source": [
    "#identity operator- compare the memory location of two object. tries to figure out if both the adress is same or not.\n",
    "a = 3 \n",
    "b = 4\n",
    "a is b"
   ]
  },
  {
   "cell_type": "code",
   "execution_count": 21,
   "id": "1e3f47b6-569a-4d81-affb-e043c3af4f80",
   "metadata": {},
   "outputs": [
    {
     "data": {
      "text/plain": [
       "True"
      ]
     },
     "execution_count": 21,
     "metadata": {},
     "output_type": "execute_result"
    }
   ],
   "source": [
    "a = \"backspace\"\n",
    "b = a \n",
    "b is a"
   ]
  },
  {
   "cell_type": "code",
   "execution_count": 22,
   "id": "bc84f602-4474-4e7c-9c44-aa9bf0d08ae2",
   "metadata": {},
   "outputs": [
    {
     "data": {
      "text/plain": [
       "4"
      ]
     },
     "execution_count": 22,
     "metadata": {},
     "output_type": "execute_result"
    }
   ],
   "source": [
    "#bitwise operator- operations at bit level. bit format means in a binary form i.e., (0 and 1)\n",
    "12 & 4"
   ]
  },
  {
   "cell_type": "code",
   "execution_count": 24,
   "id": "36ab3de0-ba34-4949-89cd-39cf2b04f897",
   "metadata": {},
   "outputs": [
    {
     "data": {
      "text/plain": [
       "-5"
      ]
     },
     "execution_count": 24,
     "metadata": {},
     "output_type": "execute_result"
    }
   ],
   "source": [
    "#negation operator ( ~ ) \n",
    "~4"
   ]
  },
  {
   "cell_type": "code",
   "execution_count": 25,
   "id": "75d4f0f7-09ba-4001-99f9-6d772e7c41d3",
   "metadata": {},
   "outputs": [
    {
     "data": {
      "text/plain": [
       "2"
      ]
     },
     "execution_count": 25,
     "metadata": {},
     "output_type": "execute_result"
    }
   ],
   "source": [
    "#shift operator- left shift and right shift operator\n",
    "43 >> 4     #right shift"
   ]
  },
  {
   "cell_type": "code",
   "execution_count": 26,
   "id": "31aa0a7c-d1e6-41df-9f79-b999bc183a77",
   "metadata": {},
   "outputs": [
    {
     "data": {
      "text/plain": [
       "1024"
      ]
     },
     "execution_count": 26,
     "metadata": {},
     "output_type": "execute_result"
    }
   ],
   "source": [
    "32 << 5   #left shift"
   ]
  },
  {
   "cell_type": "code",
   "execution_count": 27,
   "id": "888720d6-5550-41ef-86ac-a22b989a993e",
   "metadata": {},
   "outputs": [
    {
     "data": {
      "text/plain": [
       "'kaushar'"
      ]
     },
     "execution_count": 27,
     "metadata": {},
     "output_type": "execute_result"
    }
   ],
   "source": [
    "#assignment operator\n",
    "a = \"kaushar\"\n",
    "a"
   ]
  },
  {
   "cell_type": "code",
   "execution_count": 28,
   "id": "32198f21-035f-44fc-a1da-377dd1101566",
   "metadata": {},
   "outputs": [],
   "source": [
    "#3. Compare two numbers and print the results."
   ]
  },
  {
   "cell_type": "code",
   "execution_count": 36,
   "id": "c514f3ec-ba18-4d57-8ae9-70690a75d8c4",
   "metadata": {},
   "outputs": [
    {
     "name": "stdout",
     "output_type": "stream",
     "text": [
      "20 is less than 30\n"
     ]
    }
   ],
   "source": [
    "a = 20\n",
    "b = 30\n",
    "#compare the numbers\n",
    "if a>b:\n",
    "    print(a,\"is greater than\",b)\n",
    "elif a<b:\n",
    "    print(a,\"is less than\",b)\n",
    "else:\n",
    "    print(a,\"is equals to\",b)"
   ]
  },
  {
   "cell_type": "code",
   "execution_count": 37,
   "id": "14016c7a-3d42-4e3d-8ea4-5551290c9320",
   "metadata": {},
   "outputs": [],
   "source": [
    "#4.Check conditions using logical operators."
   ]
  },
  {
   "cell_type": "code",
   "execution_count": 39,
   "id": "619bf51e-37be-4120-adf0-337eee5a48db",
   "metadata": {},
   "outputs": [
    {
     "name": "stdout",
     "output_type": "stream",
     "text": [
      "at least one condition is false\n"
     ]
    }
   ],
   "source": [
    "x = 15\n",
    "y = 5\n",
    "z = 10\n",
    "if x<y and y<z:             #here using (and) logical operator\n",
    "    print(\"both conditions are true: x is less than y and y is less than z\")\n",
    "else:\n",
    "    print(\"at least one condition is false\")    \n"
   ]
  },
  {
   "cell_type": "code",
   "execution_count": 41,
   "id": "74d5ee31-2524-4a9f-91cf-d3032312f660",
   "metadata": {},
   "outputs": [
    {
     "name": "stdout",
     "output_type": "stream",
     "text": [
      "both conditions are false\n"
     ]
    }
   ],
   "source": [
    "x = 15\n",
    "y = 5\n",
    "z = 10                   #here using (or) logical operator\n",
    "if x<y or y>z:\n",
    "    print(\"atleast one condition is true\")\n",
    "else: \n",
    "    print(\"both conditions are false\")"
   ]
  },
  {
   "cell_type": "code",
   "execution_count": 42,
   "id": "49a13216-4b3a-4438-9704-4e62167577a4",
   "metadata": {},
   "outputs": [
    {
     "name": "stdout",
     "output_type": "stream",
     "text": [
      "the condition 'x is greater than y' is true\n"
     ]
    }
   ],
   "source": [
    "x = 15\n",
    "y = 5\n",
    "z = 10   #here using (not) logical operator\n",
    "if not(x > y):\n",
    "    print(\"the condition 'x is greater than y' is false\")\n",
    "else:\n",
    "    print(\"the condition 'x is greater than y' is true\")"
   ]
  },
  {
   "cell_type": "code",
   "execution_count": 43,
   "id": "4b8b1a4a-dfa3-47eb-9716-5f0ef27c54ff",
   "metadata": {},
   "outputs": [],
   "source": [
    "#5.Check the identity of variables."
   ]
  },
  {
   "cell_type": "code",
   "execution_count": 45,
   "id": "a513dad4-7d5a-4734-a3c4-cd556b69463a",
   "metadata": {},
   "outputs": [
    {
     "name": "stdout",
     "output_type": "stream",
     "text": [
      "refer to different objects in memory\n"
     ]
    }
   ],
   "source": [
    "a = [ 2, 4, 6 ]\n",
    "b = [ 2, 4, 6 ]\n",
    "#here using the (is) operator\n",
    "if a is b:\n",
    "    print(\"x and y refer to the same objects\")\n",
    "else:\n",
    "    print(\"refer to different objects in memory\")"
   ]
  },
  {
   "cell_type": "code",
   "execution_count": 47,
   "id": "73800f14-210c-4303-b9c2-973512c36399",
   "metadata": {},
   "outputs": [
    {
     "name": "stdout",
     "output_type": "stream",
     "text": [
      "a and b refer to the same objects\n"
     ]
    }
   ],
   "source": [
    "a = [ 2, 4, 6 ]\n",
    "b = [ 2, 4, 6 ]\n",
    "#here using the (is not) operator\n",
    "if a != b:\n",
    "    print(\"a and b refer to different objects\")\n",
    "else:\n",
    "    print(\"a and b refer to the same objects\")"
   ]
  },
  {
   "cell_type": "code",
   "execution_count": 48,
   "id": "e3a7c9d3-fe7a-41de-8afc-25d07850d618",
   "metadata": {},
   "outputs": [
    {
     "name": "stdout",
     "output_type": "stream",
     "text": [
      "both have same value\n"
     ]
    }
   ],
   "source": [
    "a = \"backspace\"\n",
    "b = a\n",
    "if b is a:\n",
    "    print(\"both have same value\")\n",
    "else:\n",
    "    print(\"have different memory location\")"
   ]
  },
  {
   "cell_type": "code",
   "execution_count": 49,
   "id": "b6635d1b-b79e-4912-aaea-528412e60958",
   "metadata": {},
   "outputs": [],
   "source": [
    "#6.Perform bitwise operations on any two integers."
   ]
  },
  {
   "cell_type": "code",
   "execution_count": 52,
   "id": "a9261e4e-85c4-4567-aa35-2c5a1cf3f44c",
   "metadata": {},
   "outputs": [
    {
     "name": "stdout",
     "output_type": "stream",
     "text": [
      "4\n"
     ]
    }
   ],
   "source": [
    "#operations at bit level. bit format means in a binary form i.e., (0 and 1) \n",
    "m = 12\n",
    "n = 4\n",
    "bit = m & n    #(&) operator\n",
    "print(bit)"
   ]
  },
  {
   "cell_type": "code",
   "execution_count": 51,
   "id": "4be0a76f-23e8-4586-bdab-e740c16271a5",
   "metadata": {},
   "outputs": [
    {
     "data": {
      "text/plain": [
       "'0b0'"
      ]
     },
     "execution_count": 51,
     "metadata": {},
     "output_type": "execute_result"
    }
   ],
   "source": [
    "bin(0)"
   ]
  },
  {
   "cell_type": "code",
   "execution_count": 53,
   "id": "22358ce9-8179-49a2-b309-d9703d7b1da9",
   "metadata": {},
   "outputs": [
    {
     "name": "stdout",
     "output_type": "stream",
     "text": [
      "7\n"
     ]
    }
   ],
   "source": [
    "# or(|)\n",
    "m = 3\n",
    "n = 5\n",
    "bit_ = m | n\n",
    "print(bit_)"
   ]
  },
  {
   "cell_type": "code",
   "execution_count": 54,
   "id": "6ed827ce-a962-4817-95db-216fba9cfeba",
   "metadata": {},
   "outputs": [],
   "source": [
    "#7. Use unary operators to change the sign of a number."
   ]
  },
  {
   "cell_type": "code",
   "execution_count": 1,
   "id": "91747ab6-bf0c-4fbb-9f10-e825c1e8457d",
   "metadata": {},
   "outputs": [
    {
     "name": "stdout",
     "output_type": "stream",
     "text": [
      "-23\n"
     ]
    }
   ],
   "source": [
    "num = 23\n",
    "un_num = -num\n",
    "print(un_num)"
   ]
  },
  {
   "cell_type": "code",
   "execution_count": 2,
   "id": "7d3e0572-6554-460c-9988-3fe928b581bc",
   "metadata": {},
   "outputs": [
    {
     "name": "stdout",
     "output_type": "stream",
     "text": [
      "34\n"
     ]
    }
   ],
   "source": [
    "num = -34\n",
    "un_num = -num\n",
    "print(un_num)"
   ]
  },
  {
   "cell_type": "code",
   "execution_count": 4,
   "id": "9b80f328-6e3c-4fbf-9a31-c36fa82ef832",
   "metadata": {},
   "outputs": [
    {
     "data": {
      "text/plain": [
       "-8"
      ]
     },
     "execution_count": 4,
     "metadata": {},
     "output_type": "execute_result"
    }
   ],
   "source": [
    "z = ~7\n",
    "z"
   ]
  },
  {
   "cell_type": "code",
   "execution_count": 5,
   "id": "302d72b0-9814-4783-8bfb-91025ba0db30",
   "metadata": {},
   "outputs": [
    {
     "data": {
      "text/plain": [
       "False"
      ]
     },
     "execution_count": 5,
     "metadata": {},
     "output_type": "execute_result"
    }
   ],
   "source": [
    "x = not True\n",
    "x"
   ]
  },
  {
   "cell_type": "code",
   "execution_count": 3,
   "id": "9fb04cce-f5b9-4d40-be87-308a6a7c12f5",
   "metadata": {},
   "outputs": [],
   "source": [
    "#8. Use the ternary operator to assign values based on conditions."
   ]
  },
  {
   "cell_type": "code",
   "execution_count": 7,
   "id": "63207f78-f24c-4ae4-807e-23d1fd82f2ca",
   "metadata": {},
   "outputs": [
    {
     "name": "stdout",
     "output_type": "stream",
     "text": [
      "adult\n"
     ]
    }
   ],
   "source": [
    "age = 25\n",
    "status = \"adult\" if age >= 18 else \"minor\"\n",
    "print(status)"
   ]
  },
  {
   "cell_type": "code",
   "execution_count": 8,
   "id": "cfa1d078-0c7c-4602-a6e8-e6b16b714bf4",
   "metadata": {},
   "outputs": [
    {
     "name": "stdout",
     "output_type": "stream",
     "text": [
      "y is greater\n"
     ]
    }
   ],
   "source": [
    "x = 20 \n",
    "y = 40\n",
    "res_ = \"x is greater\" if x > y else \"y is greater\"\n",
    "print(res_)"
   ]
  },
  {
   "cell_type": "code",
   "execution_count": null,
   "id": "3ec5b8f9-72d0-4773-8e7e-4a7a8499fb3e",
   "metadata": {},
   "outputs": [],
   "source": [
    "#checking if a number is even or odd\n",
    "num1 = 13\n",
    "result = \"even\" if num1 % 2 == 0 else \"odd\" \n",
    "print(result)"
   ]
  }
 ],
 "metadata": {
  "kernelspec": {
   "display_name": "Python 3 (ipykernel)",
   "language": "python",
   "name": "python3"
  },
  "language_info": {
   "codemirror_mode": {
    "name": "ipython",
    "version": 3
   },
   "file_extension": ".py",
   "mimetype": "text/x-python",
   "name": "python",
   "nbconvert_exporter": "python",
   "pygments_lexer": "ipython3",
   "version": "3.10.8"
  }
 },
 "nbformat": 4,
 "nbformat_minor": 5
}
